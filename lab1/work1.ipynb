{
 "cells": [
  {
   "cell_type": "code",
   "execution_count": null,
   "id": "615ce8c8",
   "metadata": {},
   "outputs": [],
   "source": [
    "import random \n",
    "import time\n",
    "import matplotlib.pyplot as plt\n",
    "\n",
    "def search_in_sequence(sequence, value):\n",
    "    return value in sequence\n",
    "\n",
    "def generate_random_sequence(length):\n",
    "    return random.sample(range(1, length+1), length)\n",
    "\n",
    "def plot_time_complexity(x, y_start, y_middle, y_end):\n",
    "    plt.plot(x, y_start, marker='o', label='Start')\n",
    "    plt.plot(x, y_middle, marker='o', label='Middle')\n",
    "    plt.plot(x, y_end, marker='o', label='End')\n",
    "    plt.xlabel('Sequence Length')\n",
    "    plt.ylabel('Average Time (seconds)')\n",
    "    plt.title('Time Complexity of Search Positions')\n",
    "    plt.legend()\n",
    "    #plt.grid(True)\n",
    "    plt.show()\n",
    "\n",
    "sequence_lengths = [5000,10000,15000,20000]  # Vary the sequence lengths as desired\n",
    "num_trials = 1000\n",
    "\n",
    "search_positions = ['Start', 'Middle', 'End']\n",
    "search_values = {position: [] for position in search_positions}\n",
    "\n",
    "for length in sequence_lengths:\n",
    "    for position in search_positions:\n",
    "        values = [random.choice(generate_random_sequence(length)) for _ in range(num_trials)]\n",
    "        search_values[position].append(values)\n",
    "\n",
    "average_times = {position: [] for position in search_positions}\n",
    "\n",
    "for position in search_positions:\n",
    "    for length, values in zip(sequence_lengths, search_values[position]):\n",
    "        total_time = 0\n",
    "        for value in values:\n",
    "            sequence = generate_random_sequence(length)\n",
    "            sequence.sort()  # Simulating unordered sequence\n",
    "\n",
    "            start_time = time.time()\n",
    "            search_in_sequence(sequence, value)\n",
    "            end_time = time.time()\n",
    "\n",
    "            total_time += (end_time - start_time)\n",
    "        average_time = total_time / num_trials\n",
    "        average_times[position].append(average_time)\n",
    "\n",
    "plot_time_complexity(sequence_lengths, average_times['Start'], average_times['Middle'], average_times['End'])"
   ]
  }
 ],
 "metadata": {
  "kernelspec": {
   "display_name": "Python 3",
   "language": "python",
   "name": "python3"
  },
  "language_info": {
   "codemirror_mode": {
    "name": "ipython",
    "version": 3
   },
   "file_extension": ".py",
   "mimetype": "text/x-python",
   "name": "python",
   "nbconvert_exporter": "python",
   "pygments_lexer": "ipython3",
   "version": "3.13.5"
  }
 },
 "nbformat": 4,
 "nbformat_minor": 5
}
